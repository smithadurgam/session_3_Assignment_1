{
 "cells": [
  {
   "cell_type": "code",
   "execution_count": 5,
   "metadata": {},
   "outputs": [
    {
     "name": "stdout",
     "output_type": "stream",
     "text": [
      "['A', 'C', 'A', 'D', 'G', 'I', 'L', 'D']\n"
     ]
    }
   ],
   "source": [
    "# Python Session 3 Assignment 1\n",
    "# Write List comprehensions to produce the following Lists\n",
    "# 1. ['A', 'C', 'A', 'D', 'G', 'I', ’L’, ‘ D’] \n",
    "# 2. ['x', 'xx', 'xxx', 'xxxx', 'y', 'yy', 'yyy', 'yyyy', 'z', 'zz', 'zzz', 'zzzz']\n",
    "# 3. ['x', 'y', 'z', 'xx', 'yy', 'zz', 'xx', 'yy', 'zz', 'xxxx', 'yyyy', 'zzzz']\n",
    "# 4. [[2], [3], [4], [3], [4], [5], [4], [5], [6]] \n",
    "# 5. [[2, 3, 4, 5], [3, 4, 5, 6], [4, 5, 6, 7], [5, 6, 7, 8]] \n",
    "# 6. [(1, 1), (2, 1), (3, 1), (1, 2), (2, 2), (3, 2), (1, 3), (2, 3), (3, 3)]\n",
    "\n",
    "# 1. ['A', 'C', 'A', 'D', 'G', 'I', ’L’, ‘ D’] \n",
    "#---------------------------------------------\n",
    "str = 'ACADGILD'\n",
    "l = len(str)\n",
    "i = 0\n",
    "lst = []\n",
    "while i < l:\n",
    "    lst.append(str[i])\n",
    "    i = i+1\n",
    "print(lst)\n",
    "#--------------------------------------------"
   ]
  },
  {
   "cell_type": "code",
   "execution_count": 41,
   "metadata": {},
   "outputs": [
    {
     "data": {
      "text/plain": [
       "[('x', 'xx', 'xxx', 'xxxx'),\n",
       " ('y', 'yy', 'yyy', 'yyyy'),\n",
       " ('z', 'zz', 'zzz', 'zzzz')]"
      ]
     },
     "execution_count": 41,
     "metadata": {},
     "output_type": "execute_result"
    }
   ],
   "source": [
    "# 2. ['x', 'xx', 'xxx', 'xxxx', 'y', 'yy', 'yyy', 'yyyy', 'z', 'zz', 'zzz', 'zzzz']\n",
    "#----------------------------------------------------------------------------------\n",
    "xlist = ['x']\n",
    "ylist = ['y']\n",
    "zlist = ['z']\n",
    "\n",
    "l = [((i),(i*2), (i*3), (i*4)) for i in xlist] +  [(i,i*2, i*3, i*4) for i in ylist] +  [(i,i*2, i*3, i*4) for i in zlist]\n",
    "l\n"
   ]
  },
  {
   "cell_type": "code",
   "execution_count": 37,
   "metadata": {},
   "outputs": [
    {
     "data": {
      "text/plain": [
       "['x', 'y', 'z', 'xx', 'yy', 'zz', 'xx', 'yy', 'zz', 'xxx', 'yyy', 'zzz']"
      ]
     },
     "execution_count": 37,
     "metadata": {},
     "output_type": "execute_result"
    }
   ],
   "source": [
    "# 3.  ['x', 'y', 'z', 'xx', 'yy', 'zz', 'xx', 'yy', 'zz', 'xxxx', 'yyyy', 'zzzz']\n",
    "#---------------------------------------------------------------------------\n",
    "xlist = ['x','y','z']\n",
    "l5 = [(i) for i in xlist] + [i*2 for i in xlist]*2 +  [i*3 for i in xlist]\n",
    "l5"
   ]
  },
  {
   "cell_type": "code",
   "execution_count": 58,
   "metadata": {},
   "outputs": [
    {
     "data": {
      "text/plain": [
       "[[2], [3], [4], [3], [4], [5], [4], [5], [6]]"
      ]
     },
     "execution_count": 58,
     "metadata": {},
     "output_type": "execute_result"
    }
   ],
   "source": [
    "# 4. [[2], [3], [4], [3], [4], [5], [4], [5], [6]] \n",
    "#--------------------------------------------------\n",
    "l = [1,2,3]\n",
    "\n",
    "f1 = (lambda i:i+1) \n",
    "f2 = (lambda i:i+2)\n",
    "f3 = (lambda i:i+3)\n",
    "l1 = [[f1(x)] for x in l] + [[f2(x)] for x in l] +  [[f3(x)] for x in l]\n",
    "l1"
   ]
  },
  {
   "cell_type": "code",
   "execution_count": 71,
   "metadata": {},
   "outputs": [
    {
     "data": {
      "text/plain": [
       "[[2, 3, 4, 5], [3, 4, 5, 6], [4, 5, 6, 7], [5, 6, 7, 8]]"
      ]
     },
     "execution_count": 71,
     "metadata": {},
     "output_type": "execute_result"
    }
   ],
   "source": [
    "# 5.  [[2, 3, 4, 5], [3, 4, 5, 6], [4, 5, 6, 7], [5, 6, 7, 8]]  \n",
    "#--------------------------------------------------\n",
    "l = [2,3,4,5]\n",
    "\n",
    "f1 = (lambda i:i+1) \n",
    "f2 = (lambda i:i+2) \n",
    "f3 = (lambda i:i+3)\n",
    "l1 = []\n",
    "\n",
    "l1 = l1+[l] + [[f1(x) for x in l]] + [[f2(x) for x in l]] +  [[f3(x) for x in l]]\n",
    "l1"
   ]
  },
  {
   "cell_type": "code",
   "execution_count": 94,
   "metadata": {},
   "outputs": [
    {
     "data": {
      "text/plain": [
       "[(1, 1), (1, 1), (1, 1), (1, 1), (1, 1)]"
      ]
     },
     "execution_count": 94,
     "metadata": {},
     "output_type": "execute_result"
    }
   ],
   "source": [
    "# 6. [(1, 1), (2, 1), (3, 1), (1, 2), (2, 2), (3, 2), (1, 3), (2, 3), (3, 3)]\n",
    "#--------------------------------------------------------------------------\n",
    "l = [1]\n",
    "\n",
    "index = 0\n",
    "def sqr(x): return x,x\n",
    "\n",
    "lst = list(map(sqr, l))\n",
    "lst\n",
    "index = 0\n",
    "while index < 4:\n",
    "    lst2 = list(map(sqr, l))\n",
    "    lst = lst + lst2\n",
    "    index = index + 1\n",
    "lst"
   ]
  }
 ],
 "metadata": {
  "kernelspec": {
   "display_name": "Python 3",
   "language": "python",
   "name": "python3"
  },
  "language_info": {
   "codemirror_mode": {
    "name": "ipython",
    "version": 3
   },
   "file_extension": ".py",
   "mimetype": "text/x-python",
   "name": "python",
   "nbconvert_exporter": "python",
   "pygments_lexer": "ipython3",
   "version": "3.6.4"
  }
 },
 "nbformat": 4,
 "nbformat_minor": 2
}
